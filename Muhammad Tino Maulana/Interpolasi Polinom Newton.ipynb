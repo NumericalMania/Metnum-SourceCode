{
 "cells": [
  {
   "cell_type": "code",
   "execution_count": null,
   "metadata": {},
   "outputs": [],
   "source": [
    "import numpy as np\n",
    "import matplotlib.pyplot as plt"
   ]
  },
  {
   "cell_type": "code",
   "execution_count": null,
   "metadata": {},
   "outputs": [],
   "source": [
    "def divided_diff(x, y):\n",
    "\n",
    "    n = len(y)\n",
    "    coef = np.zeros([n, n]) #membuat matrik 0 ber ordo n x n \n",
    "    coef[:,0] = y #menyimpan Y pada matriks coef pada kolom pada indeks ke-0\n",
    "\n",
    "    print(coef)\n",
    "    \"\"\"\n",
    "    for (i=1; i\n",
    "        ...\n",
    "    }\n",
    "\n",
    "    \"\"\"\n",
    "    for j in range(1,n):\n",
    "\n",
    "        print(\"ini iterasi j ke-\",j)\n",
    "\n",
    "        for i in range(0,n-j):\n",
    "\n",
    "            print(\"ini iterasi i ke-\",i)\n",
    "\n",
    "\n",
    "            coef[i][j] = (coef[i+1][j-1] - coef[i][j-1]) / (x[i+j]-x[i])\n",
    "\n",
    "            print(coef)\n",
    "            \n",
    "    return coef  #nilai dari Selisih terbagi\n",
    "\n",
    "def newton_poly(coef, x_data, x_input):\n",
    "   \n",
    "    n = len(x_data) - 1\n",
    "    p = coef[n]\n",
    "\n",
    "\n",
    "    for k in range(1,n+1):\n",
    "        p = coef[n-k] + (x_input -x_data[n-k])*p   #p(x) = a0 + a1(x-x0)+ a2(x-x0)(x-x1)+...\n",
    "\n",
    "    return p"
   ]
  },
  {
   "cell_type": "code",
   "execution_count": null,
   "metadata": {},
   "outputs": [],
   "source": [
    "x = np.array([4,6,7])\n",
    "y = np.array([2,4,5])\n",
    "\n",
    "# get the divided difference coef\n",
    "masukan = float(input(\"Masukan Nilai: \"))\n",
    "a_s = divided_diff(x, y)[0,:]\n",
    "\n",
    "print(a_s)\n",
    "\n",
    "# evaluate on new data points\n",
    "# x_new = np.arange(0, 10, 1)\n",
    "\n",
    "# print(x_new)\n",
    "\n",
    "# y_new = newton_poly(a_s, x, x_new)\n",
    "y_new = newton_poly(a_s, x, masukan)\n",
    "\n",
    "print(y_new)\n",
    "\n",
    "\n",
    "\n",
    "plt.figure(figsize = (7, 4)) #untuk bikin background grafiknya\n",
    "plt.plot(x, y,'o')\n",
    "plt.plot(x, y)\n",
    "# plt.plot(x_new, y_new)"
   ]
  }
 ],
 "metadata": {
  "kernelspec": {
   "display_name": "Python 3.9.0 64-bit",
   "language": "python",
   "name": "python3"
  },
  "language_info": {
   "name": "python",
   "version": "3.9.0"
  },
  "orig_nbformat": 4,
  "vscode": {
   "interpreter": {
    "hash": "3021318854d23d1a95aba9536e4a65bc49265228afa1e057d18b531ce801e329"
   }
  }
 },
 "nbformat": 4,
 "nbformat_minor": 2
}
