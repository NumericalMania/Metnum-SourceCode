{
 "cells": [
  {
   "cell_type": "code",
   "execution_count": 1,
   "metadata": {},
   "outputs": [
    {
     "name": "stdout",
     "output_type": "stream",
     "text": [
      "-0.0\n",
      "-0.0\n",
      "1.0\n",
      "1.0\n",
      "0.5\n",
      "0.0\n",
      "Interpolated value at 5.000 is 3.000.\n"
     ]
    }
   ],
   "source": [
    "import numpy as np\n",
    "\n",
    "# n = int(input(\"Masukan banyak titik (x,y):\"))\n",
    "\n",
    "# x = np.zeros((n))\n",
    "# y = np.zeros((n))\n",
    "\n",
    "# print('masukan nilai x dan y ')\n",
    "# for i in range(n):\n",
    "#     x[i] = float(input( 'x['+str(i)+']='))\n",
    "#     y[i] = float(input( 'y['+str(i)+']='))\n",
    "\n",
    "x = [4,5,6]\n",
    "y = [2,3,4]\n",
    "\n",
    "n = len(x)\n",
    "\n",
    "xp = float(input('Masukan nilai Interpolasi: '))\n",
    "\n",
    "yp = 0\n",
    "\n",
    "for i in range(n):\n",
    "    \n",
    "    p = 1\n",
    "    \n",
    "    for j in range(n):\n",
    "        if i != j:\n",
    "            p = p * (xp - x[j])/(x[i] - x[j])\n",
    "            print(p)\n",
    "            \n",
    "    \n",
    "    yp = yp + p * y[i]    \n",
    "\n",
    "# Displaying output\n",
    "print('Interpolated value at %.3f is %.3f.' % (xp, yp)) "
   ]
  }
 ],
 "metadata": {
  "kernelspec": {
   "display_name": "Python 3.9.0 64-bit",
   "language": "python",
   "name": "python3"
  },
  "language_info": {
   "codemirror_mode": {
    "name": "ipython",
    "version": 3
   },
   "file_extension": ".py",
   "mimetype": "text/x-python",
   "name": "python",
   "nbconvert_exporter": "python",
   "pygments_lexer": "ipython3",
   "version": "3.9.0"
  },
  "orig_nbformat": 4,
  "vscode": {
   "interpreter": {
    "hash": "3021318854d23d1a95aba9536e4a65bc49265228afa1e057d18b531ce801e329"
   }
  }
 },
 "nbformat": 4,
 "nbformat_minor": 2
}
