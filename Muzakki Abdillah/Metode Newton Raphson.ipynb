{
 "cells": [
  {
   "cell_type": "markdown",
   "metadata": {},
   "source": [
    "- Nama    : Muzakki Abdillah\n",
    "- NIM     : 2000532\n",
    "- Kelas   : PILKOM 5A"
   ]
  },
  {
   "cell_type": "code",
   "execution_count": 2,
   "metadata": {},
   "outputs": [],
   "source": [
    "# Definisikan fungsi newton_raphson dengan parameter fungsi f, turunan fungsi f, nilai awal x0, dan toleransi error\n",
    "def newton_raphson(f, df, x0, e):\n",
    "    # Hitung nilai Xn\n",
    "    print(\"Nilai Xn: \", x0)\n",
    "\n",
    "    # Cek apakah nilai mutlak f(Xn) kurang dari toleransi error\n",
    "    if abs(f(x0)) < e:  \n",
    "        # Jika ya, maka print nilai Xn\n",
    "        return x0\n",
    "    else:\n",
    "        # Jika tidak maka hitung nilai Xn+1\n",
    "        xn = x0 - f(x0)/df(x0)\n",
    "        # Panggil fungsi newton_raphson dengan parameter fungsi f, turunan fungsi f, nilai awal xn, dan toleransi error\n",
    "        return newton_raphson(f, df, xn, e)"
   ]
  },
  {
   "cell_type": "code",
   "execution_count": 3,
   "metadata": {},
   "outputs": [
    {
     "name": "stdout",
     "output_type": "stream",
     "text": [
      "Nilai Xn:  12.0\n",
      "Nilai Xn:  6.909090909090909\n",
      "Nilai Xn:  4.716083916083916\n",
      "Nilai Xn:  4.068994159773234\n",
      "Nilai Xn:  4.0007755300002215\n",
      "Nilai Xn:  4.000000100215224\n",
      "estimate = 4.000000100215224\n"
     ]
    }
   ],
   "source": [
    "# Definisikan fungsi f(x)\n",
    "fx = lambda x: ((x**2)-(2*x)-8)\n",
    "\n",
    "# Definisikan turunan dari f(x)\n",
    "f_prime = lambda x: 2*x - 2\n",
    "\n",
    "# Tentukan tebakan awal x0\n",
    "n = float(input())\n",
    "\n",
    "# Panggil fungsi newton_raphson dengan toleransi e = 1e-3 -> 10**-3 -> 0.001\n",
    "estimate = newton_raphson(fx, f_prime, n, 1e-3)\n",
    "\n",
    "# Cetak estimasi akar persamaan (Xn terakhir) = 4.000...\n",
    "print(\"estimate =\", estimate)"
   ]
  }
 ],
 "metadata": {
  "kernelspec": {
   "display_name": "Python 3.9.0 64-bit",
   "language": "python",
   "name": "python3"
  },
  "language_info": {
   "codemirror_mode": {
    "name": "ipython",
    "version": 3
   },
   "file_extension": ".py",
   "mimetype": "text/x-python",
   "name": "python",
   "nbconvert_exporter": "python",
   "pygments_lexer": "ipython3",
   "version": "3.9.0"
  },
  "orig_nbformat": 4,
  "vscode": {
   "interpreter": {
    "hash": "cf92aa13fedf815d5c8dd192b8d835913fde3e8bc926b2a0ad6cc74ef2ba3ca2"
   }
  }
 },
 "nbformat": 4,
 "nbformat_minor": 2
}
