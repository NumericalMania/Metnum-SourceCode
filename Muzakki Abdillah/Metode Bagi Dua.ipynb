{
 "cells": [
  {
   "cell_type": "code",
   "execution_count": 1,
   "metadata": {},
   "outputs": [],
   "source": [
    "f = lambda x: x**2-6*x+8"
   ]
  },
  {
   "cell_type": "code",
   "execution_count": 2,
   "metadata": {},
   "outputs": [],
   "source": [
    "def bisection(a,b,e):  \n",
    "   \n",
    "    condition = True\n",
    "    while condition:\n",
    "        c = (a + b)/2  # c = (a+b)/2 --> new root formula\n",
    "\n",
    "        if f(a) * f(c) < 0:\n",
    "            b = c\n",
    "        else:\n",
    "            a = c\n",
    "\n",
    "        print(f(c))\n",
    "        condition = abs(f(c)) > e\n",
    "\n",
    "\n",
    "    print('\\nRequired Root is : %0.8f' % c)"
   ]
  },
  {
   "cell_type": "code",
   "execution_count": 3,
   "metadata": {},
   "outputs": [],
   "source": [
    "a = float(input('Masukan Nilai a: '))\n",
    "b = float(input('Masukan Nilai b: '))\n",
    "e = float(input('Masukan Nilai Galat: '))"
   ]
  },
  {
   "cell_type": "code",
   "execution_count": 4,
   "metadata": {},
   "outputs": [
    {
     "name": "stdout",
     "output_type": "stream",
     "text": [
      "1.25\n",
      "0.5625\n",
      "0.265625\n",
      "0.12890625\n",
      "0.0634765625\n",
      "0.031494140625\n",
      "0.01568603515625\n",
      "0.0078277587890625\n",
      "0.003910064697265625\n",
      "0.0019540786743164062\n",
      "0.0009768009185791016\n",
      "\n",
      "Required Root is : 1.99951172\n"
     ]
    }
   ],
   "source": [
    "# cek apakah terdapat akar?\n",
    "if f(a) * f(b) > 0.0:\n",
    "    print('Tidak Terdapat akar pada range ini!!!')\n",
    "else:\n",
    "    bisection(a,b,e)"
   ]
  }
 ],
 "metadata": {
  "kernelspec": {
   "display_name": "Python 3.11.0 64-bit",
   "language": "python",
   "name": "python3"
  },
  "language_info": {
   "codemirror_mode": {
    "name": "ipython",
    "version": 3
   },
   "file_extension": ".py",
   "mimetype": "text/x-python",
   "name": "python",
   "nbconvert_exporter": "python",
   "pygments_lexer": "ipython3",
   "version": "3.11.0"
  },
  "orig_nbformat": 4,
  "vscode": {
   "interpreter": {
    "hash": "6491bbd3c7861498ceca5f810ff495ca48eaaad8857aa8ae48a42dff31e5d8e0"
   }
  }
 },
 "nbformat": 4,
 "nbformat_minor": 2
}
