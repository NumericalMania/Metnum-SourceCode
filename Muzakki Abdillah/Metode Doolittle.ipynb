{
 "cells": [
  {
   "cell_type": "code",
   "execution_count": 1,
   "metadata": {},
   "outputs": [],
   "source": [
    "def luDecomposition(mat, n):\n",
    " \n",
    "    lower = [[0 for x in range(n)]\n",
    "             for y in range(n)]\n",
    "    upper = [[0 for x in range(n)]\n",
    "             for y in range(n)]\n",
    "    \n",
    "    # Dekomposisi Matriks LU (Bawah dan Atas)\n",
    "    for i in range(n):\n",
    " \n",
    "        # Upper (Atas)\n",
    "        for k in range(i, n):\n",
    " \n",
    "            # Penjumlahan dari L(i, j) * U(j, k)\n",
    "            sum = 0\n",
    "            for j in range(i):\n",
    "                sum += (lower[i][j] * upper[j][k])\n",
    " \n",
    "            # Mengevaluasi U(i, k)\n",
    "            upper[i][k] = float(mat[i][k] - sum)\n",
    " \n",
    "        # Lower (Bawah)\n",
    "        for k in range(i, n):\n",
    "            if (i == k):\n",
    "                lower[i][i] = 1  # Diagonal = 1\n",
    "            else:\n",
    " \n",
    "                # Penjumlahan of L(k, j) * U(j, i)\n",
    "                sum = 0\n",
    "                for j in range(i):\n",
    "                    sum += (lower[k][j] * upper[j][i])\n",
    " \n",
    "                # Mengevaluasi L(k, i)\n",
    "                lower[k][i] = float((mat[k][i] - sum) /\n",
    "                                  upper[i][i])\n",
    " \n",
    "    \n",
    "    print(\"Lower\\t\\t\\t\\tUpper\")\n",
    " \n",
    "    # Hasil :\n",
    "    for i in range(n):\n",
    "        \n",
    "        # Lower\n",
    "        for j in range(n):\n",
    "            print(\"%.2f\" %  lower[i][j], end=\"\\t\")\n",
    "        print(\"\", end=\"\\t\")\n",
    " \n",
    "        # Upper\n",
    "        for j in range(n):\n",
    "            print(\"%.2f\" %  upper[i][j], end=\"\\t\")\n",
    "        print(\"\")\n"
   ]
  },
  {
   "cell_type": "code",
   "execution_count": 2,
   "metadata": {},
   "outputs": [
    {
     "name": "stdout",
     "output_type": "stream",
     "text": [
      "Lower\t\t\t\tUpper\n",
      "1.00\t0.00\t0.00\t\t3.00\t4.00\t1.00\t\n",
      "1.67\t1.00\t0.00\t\t0.00\t-4.67\t-3.67\t\n",
      "2.33\t0.93\t1.00\t\t0.00\t0.00\t8.07\t\n"
     ]
    }
   ],
   "source": [
    "mat = [[3, 4, 1],\n",
    "       [5, 2, -2],\n",
    "       [7, 5, 7]]\n",
    "\n",
    "luDecomposition(mat, 3) "
   ]
  }
 ],
 "metadata": {
  "kernelspec": {
   "display_name": "Python 3.11.0 64-bit",
   "language": "python",
   "name": "python3"
  },
  "language_info": {
   "codemirror_mode": {
    "name": "ipython",
    "version": 3
   },
   "file_extension": ".py",
   "mimetype": "text/x-python",
   "name": "python",
   "nbconvert_exporter": "python",
   "pygments_lexer": "ipython3",
   "version": "3.11.0"
  },
  "orig_nbformat": 4,
  "vscode": {
   "interpreter": {
    "hash": "6491bbd3c7861498ceca5f810ff495ca48eaaad8857aa8ae48a42dff31e5d8e0"
   }
  }
 },
 "nbformat": 4,
 "nbformat_minor": 2
}
