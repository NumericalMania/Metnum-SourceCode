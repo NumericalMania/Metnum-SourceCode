{
 "cells": [
  {
   "cell_type": "code",
   "execution_count": 2,
   "metadata": {},
   "outputs": [],
   "source": [
    "import numpy as np\n",
    "import matplotlib.pyplot as plt"
   ]
  },
  {
   "cell_type": "code",
   "execution_count": 3,
   "metadata": {},
   "outputs": [],
   "source": [
    "def divided_diff(x, y):\n",
    "\n",
    "    n = len(y)\n",
    "    coef = np.zeros([n, n]) #membuat matriks 0 ber ordo n x n \n",
    "    coef[:,0] = y #menyimpan Y pada matriks coef pada kolom pada indeks ke-0\n",
    "\n",
    "    print(coef)\n",
    "    \"\"\"\n",
    "    for (i=1; i<n; i++){\n",
    "        ...\n",
    "    }\n",
    "\n",
    "    \"\"\"\n",
    "    for j in range(1,n):\n",
    "\n",
    "        print(\"ini iterasi j ke-\",j)\n",
    "\n",
    "        for i in range(0,n-j):\n",
    "\n",
    "            print(\"ini iterasi i ke-\",i)\n",
    "\n",
    "\n",
    "            coef[i][j] = (coef[i+1][j-1] - coef[i][j-1]) / (x[i+j]-x[i])\n",
    "\n",
    "            print(coef)\n",
    "            \n",
    "    return coef  #nilai dari Selisih terbagi"
   ]
  },
  {
   "cell_type": "code",
   "execution_count": 4,
   "metadata": {},
   "outputs": [],
   "source": [
    "def newton_poly(coef, x_data, x_input):\n",
    "   \n",
    "    n = len(x_data) - 1\n",
    "    p = coef[n]\n",
    "\n",
    "\n",
    "    for k in range(1,n+1):\n",
    "        p = coef[n-k] + (x_input -x_data[n-k])*p   #p(x) = a0 + a1(x-x0)+ a2(x-x0)(x-x1)+...\n",
    "\n",
    "    return p"
   ]
  },
  {
   "cell_type": "code",
   "execution_count": 5,
   "metadata": {},
   "outputs": [
    {
     "name": "stdout",
     "output_type": "stream",
     "text": [
      "[[2. 0. 0.]\n",
      " [4. 0. 0.]\n",
      " [5. 0. 0.]]\n",
      "ini iterasi j ke- 1\n",
      "ini iterasi i ke- 0\n",
      "[[2. 1. 0.]\n",
      " [4. 0. 0.]\n",
      " [5. 0. 0.]]\n",
      "ini iterasi i ke- 1\n",
      "[[2. 1. 0.]\n",
      " [4. 1. 0.]\n",
      " [5. 0. 0.]]\n",
      "ini iterasi j ke- 2\n",
      "ini iterasi i ke- 0\n",
      "[[2. 1. 0.]\n",
      " [4. 1. 0.]\n",
      " [5. 0. 0.]]\n",
      "[2. 1. 0.]\n",
      "3.0\n"
     ]
    },
    {
     "data": {
      "text/plain": [
       "[<matplotlib.lines.Line2D at 0x23158f39290>]"
      ]
     },
     "execution_count": 5,
     "metadata": {},
     "output_type": "execute_result"
    },
    {
     "data": {
      "image/png": "[encoded data removed]",
      "text/plain": [
       "<Figure size 700x400 with 1 Axes>"
      ]
     },
     "metadata": {},
     "output_type": "display_data"
    }
   ],
   "source": [
    "x = np.array([4,6,7])\n",
    "y = np.array([2,4,5])\n",
    "\n",
    "# get the divided difference coef\n",
    "masukan = float(input(\"Masukan Nilai: \"))\n",
    "a_s = divided_diff(x, y)[0,:]\n",
    "\n",
    "print(a_s)\n",
    "\n",
    "# evaluate on new data points\n",
    "# x_new = np.arange(0, 10, 1)\n",
    "\n",
    "# print(x_new)\n",
    "\n",
    "# y_new = newton_poly(a_s, x, x_new)\n",
    "y_new = newton_poly(a_s, x, masukan)\n",
    "\n",
    "print(y_new)\n",
    "\n",
    "\n",
    "\n",
    "plt.figure(figsize = (7, 4)) #untuk bikin background grafiknya\n",
    "plt.plot(x, y,'o')\n",
    "plt.plot(x, y)\n",
    "# plt.plot(x_new, y_new)"
   ]
  }
 ],
 "metadata": {
  "kernelspec": {
   "display_name": "Python 3.11.0 64-bit",
   "language": "python",
   "name": "python3"
  },
  "language_info": {
   "codemirror_mode": {
    "name": "ipython",
    "version": 3
   },
   "file_extension": ".py",
   "mimetype": "text/x-python",
   "name": "python",
   "nbconvert_exporter": "python",
   "pygments_lexer": "ipython3",
   "version": "3.11.0"
  },
  "orig_nbformat": 4,
  "vscode": {
   "interpreter": {
    "hash": "6491bbd3c7861498ceca5f810ff495ca48eaaad8857aa8ae48a42dff31e5d8e0"
   }
  }
 },
 "nbformat": 4,
 "nbformat_minor": 2
}
