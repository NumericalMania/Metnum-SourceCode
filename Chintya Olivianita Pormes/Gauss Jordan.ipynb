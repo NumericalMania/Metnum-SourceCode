{
  "nbformat": 4,
  "nbformat_minor": 0,
  "metadata": {
    "colab": {
      "provenance": []
    },
    "kernelspec": {
      "name": "python3",
      "display_name": "Python 3"
    },
    "language_info": {
      "name": "python"
    }
  },
  "cells": [
    {
      "cell_type": "code",
      "execution_count": null,
      "metadata": {
        "id": "zLoWhwbrOp6h"
      },
      "outputs": [],
      "source": [
        "\n",
        "import numpy as np\n",
        "import sys\n",
        "\n",
        "n = int(input('Masukan Angka: '))\n",
        "\n",
        "a = np.zeros((n,n+1))\n",
        "\n",
        "x = np.zeros(n)\n",
        "\n",
        "print('Enter Augmented Matrix Coefficients:')\n",
        "for i in range(n):\n",
        "    for j in range(n+1):\n",
        "        a[i][j] = float(input( 'a['+str(i)+']['+ str(j)+']='))\n",
        "\n",
        "for i in range(n):\n",
        "    if a[i][i] == 0.0:\n",
        "        sys.exit('Divide by zero!')\n",
        "        \n",
        "    for j in range(n):\n",
        "        if i != j:\n",
        "            ratio = a[j][i]/a[i][i]\n",
        "\n",
        "            for k in range(n+1):\n",
        "                a[j][k] = a[j][k] - ratio * a[i][k]\n",
        "\n",
        "\n",
        "for i in range(n):\n",
        "    x[i] = a[i][n]/a[i][i]\n",
        "\n",
        "for i in range(n):\n",
        "    print('X%d = %0.2f' %(i,x[i]), end = '\\t')\n"
      ]
    }
  ]
}