{
  "nbformat": 4,
  "nbformat_minor": 0,
  "metadata": {
    "colab": {
      "provenance": []
    },
    "kernelspec": {
      "name": "python3",
      "display_name": "Python 3"
    },
    "language_info": {
      "name": "python"
    }
  },
  "cells": [
    {
      "cell_type": "code",
      "execution_count": null,
      "metadata": {
        "id": "zLoWhwbrOp6h"
      },
      "outputs": [],
      "source": [
        "# Definisi fungsi\n",
        "# def f(x):\n",
        "#     return x**3-5*x-9\n",
        "\n",
        "f = lambda x: x**2-6*x+8\n",
        "\n",
        "# implementasi metode bagi dua\n",
        "def bisection(a,b,e):  \n",
        "   \n",
        "    condition = True\n",
        "    while condition:\n",
        "        c = (a + b)/2  # c = (a+b)/2 --> new root formula\n",
        "\n",
        "        if f(a) * f(c) < 0:\n",
        "            b = c\n",
        "        else:\n",
        "            a = c\n",
        "\n",
        "        print(f(c))\n",
        "        condition = abs(f(c)) > e\n",
        "\n",
        "\n",
        "    print('\\nRequired Root is : %0.8f' % c)\n",
        "\n",
        "\n",
        "# Input Section\n",
        "a = float(input('Masukan Nilai a: '))\n",
        "b = float(input('Masukan Nilai b: '))\n",
        "e = float(input('Masukan Nilai Galat: '))\n",
        "\n",
        "# cek apakah terdapat akar?\n",
        "if f(a) * f(b) > 0.0:\n",
        "    print('Tidak Terdapat akar pada range ini!!!')\n",
        "else:\n",
        "    bisection(a,b,e)"
      ]
    }
  ]
}