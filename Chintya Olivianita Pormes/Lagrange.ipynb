{
  "nbformat": 4,
  "nbformat_minor": 0,
  "metadata": {
    "colab": {
      "provenance": []
    },
    "kernelspec": {
      "name": "python3",
      "display_name": "Python 3"
    },
    "language_info": {
      "name": "python"
    }
  },
  "cells": [
    {
      "cell_type": "code",
      "execution_count": null,
      "metadata": {
        "id": "zLoWhwbrOp6h"
      },
      "outputs": [],
      "source": [
        "import numpy as np\n",
        "\n",
        "# n = int(input(\"Masukan banyak titik (x,y):\"))\n",
        "\n",
        "\n",
        "# x = np.zeros((n))\n",
        "# y = np.zeros((n))\n",
        "\n",
        "# print('masukan nilai x dan y ')\n",
        "# for i in range(n):\n",
        "#     x[i] = float(input( 'x['+str(i)+']='))\n",
        "#     y[i] = float(input( 'y['+str(i)+']='))\n",
        "\n",
        "x = [4,5,6]\n",
        "y = [2,3,4]\n",
        "\n",
        "n = len(x)\n",
        "\n",
        "xp = float(input('Masukan nilai Interpolasi: '))\n",
        "\n",
        "yp = 0\n",
        "\n",
        "for i in range(n):\n",
        "    \n",
        "    p = 1\n",
        "    \n",
        "    for j in range(n):\n",
        "        if i != j:\n",
        "            p = p * (xp - x[j])/(x[i] - x[j])\n",
        "            print(p)\n",
        "            \n",
        "    \n",
        "    yp = yp + p * y[i]    \n",
        "\n",
        "# Displaying output\n",
        "print('Interpolated value at %.3f is %.3f.' % (xp, yp))"
      ]
    }
  ]
}