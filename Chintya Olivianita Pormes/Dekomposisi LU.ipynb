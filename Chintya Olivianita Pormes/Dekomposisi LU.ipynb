{
  "nbformat": 4,
  "nbformat_minor": 0,
  "metadata": {
    "colab": {
      "provenance": []
    },
    "kernelspec": {
      "name": "python3",
      "display_name": "Python 3"
    },
    "language_info": {
      "name": "python"
    }
  },
  "cells": [
    {
      "cell_type": "code",
      "execution_count": 1,
      "metadata": {
        "colab": {
          "base_uri": "https://localhost:8080/"
        },
        "id": "_q-l4ipHRx45",
        "outputId": "33c8a574-41ec-48a7-9d2e-d997f4662385"
      },
      "outputs": [
        {
          "output_type": "stream",
          "name": "stdout",
          "text": [
            "Lower Triangular\t\tUpper Triangular\n",
            "1\t0\t0\t\t2\t-1\t-2\t\n",
            "-2\t1\t0\t\t0\t4\t-1\t\n",
            "-2\t-1\t1\t\t0\t0\t3\t\n"
          ]
        }
      ],
      "source": [
        "MAX = 100\n",
        " \n",
        " \n",
        "def luDecomposition(mat, n):\n",
        " \n",
        "    lower = [[0 for x in range(n)]\n",
        "             for y in range(n)]\n",
        "    upper = [[0 for x in range(n)]\n",
        "             for y in range(n)]\n",
        " \n",
        "    for i in range(n):\n",
        " \n",
        "        # Upper\n",
        "        for k in range(i, n):\n",
        " \n",
        "            sum = 0\n",
        "            for j in range(i):\n",
        "                sum += (lower[i][j] * upper[j][k])\n",
        " \n",
        "            upper[i][k] = mat[i][k] - sum\n",
        " \n",
        "        for k in range(i, n):\n",
        "            if (i == k):\n",
        "                lower[i][i] = 1  \n",
        "            else:\n",
        "                sum = 0\n",
        "                for j in range(i):\n",
        "                    sum += (lower[k][j] * upper[j][i])\n",
        " \n",
        "                \n",
        "                lower[k][i] = int((mat[k][i] - sum) /\n",
        "                                  upper[i][i])\n",
        " \n",
        "    \n",
        "    print(\"Lower Triangular\\t\\tUpper Triangular\")\n",
        " \n",
        "   \n",
        "    for i in range(n):\n",
        " \n",
        "        # Lower\n",
        "        for j in range(n):\n",
        "            print(lower[i][j], end=\"\\t\")\n",
        "        print(\"\", end=\"\\t\")\n",
        " \n",
        "        # Upper\n",
        "        for j in range(n):\n",
        "            print(upper[i][j], end=\"\\t\")\n",
        "        print(\"\")\n",
        " \n",
        " \n",
        "# Fungsi\n",
        "mat = [[2, -1, -2],\n",
        "       [-4, 6, 3],\n",
        "       [-4, -2, 8]]\n",
        " \n",
        "luDecomposition(mat, 3)"
      ]
    }
  ]
}