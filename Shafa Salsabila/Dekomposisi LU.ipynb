{
 "cells": [
  {
   "cell_type": "code",
   "execution_count": null,
   "metadata": {},
   "outputs": [],
   "source": [
    "MAX = 100\n",
    " \n",
    " \n",
    "def luDecomposition(mat, n):\n",
    " \n",
    "    lower = [[0 for x in range(n)]\n",
    "             for y in range(n)]\n",
    "    upper = [[0 for x in range(n)]\n",
    "             for y in range(n)]\n",
    " \n",
    "    for i in range(n):\n",
    " \n",
    "        # Upper\n",
    "        for k in range(i, n):\n",
    " \n",
    "            sum = 0\n",
    "            for j in range(i):\n",
    "                sum += (lower[i][j] * upper[j][k])\n",
    " \n",
    "            upper[i][k] = mat[i][k] - sum\n",
    " \n",
    "        for k in range(i, n):\n",
    "            if (i == k):\n",
    "                lower[i][i] = 1  \n",
    "            else:\n",
    "                sum = 0\n",
    "                for j in range(i):\n",
    "                    sum += (lower[k][j] * upper[j][i])\n",
    " \n",
    "                \n",
    "                lower[k][i] = int((mat[k][i] - sum) /\n",
    "                                  upper[i][i])\n",
    " \n",
    "    \n",
    "    print(\"Lower Triangular\\t\\tUpper Triangular\")\n",
    " \n",
    "   \n",
    "    for i in range(n):\n",
    " \n",
    "        # Lower\n",
    "        for j in range(n):\n",
    "            print(lower[i][j], end=\"\\t\")\n",
    "        print(\"\", end=\"\\t\")\n",
    " \n",
    "        # Upper\n",
    "        for j in range(n):\n",
    "            print(upper[i][j], end=\"\\t\")\n",
    "        print(\"\")\n",
    " \n",
    " \n",
    "# Fungsi\n",
    "mat = [[2, -1, -2],\n",
    "       [-4, 6, 3],\n",
    "       [-4, -2, 8]]\n",
    " \n",
    "luDecomposition(mat, 3)"
   ]
  }
 ],
 "metadata": {
  "kernelspec": {
   "display_name": "Python 3",
   "language": "python",
   "name": "python3"
  },
  "language_info": {
   "name": "python",
   "version": "3.10.7 (tags/v3.10.7:6cc6b13, Sep  5 2022, 14:08:36) [MSC v.1933 64 bit (AMD64)]"
  },
  "orig_nbformat": 4,
  "vscode": {
   "interpreter": {
    "hash": "107d7b120a5b68773a87d4067e673630b35702e55ebab3138143d08b1c4d7cbc"
   }
  }
 },
 "nbformat": 4,
 "nbformat_minor": 2
}
